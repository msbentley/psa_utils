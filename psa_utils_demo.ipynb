{
 "cells": [
  {
   "cell_type": "markdown",
   "id": "unlike-illness",
   "metadata": {},
   "source": [
    "# PSA Utilities demo notebook\n",
    "\n",
    "This notebook demonstrates some of the functions of the [github.com/msbentley/psa_utils](github.com/msbentley/psa_utils) package.\n",
    "\n",
    "Please raise any bugs or criticisms as [GitHub issues](https://github.com/msbentley/psa_utils/issues)\n",
    "\n"
   ]
  },
  {
   "cell_type": "code",
   "execution_count": 1,
   "id": "athletic-passage",
   "metadata": {},
   "outputs": [],
   "source": [
    "from psa_utils import download, tap, pdap, packager, geogen, internal"
   ]
  },
  {
   "cell_type": "markdown",
   "id": "biological-stuff",
   "metadata": {},
   "source": [
    "# pdap\n",
    "\n",
    "This modules uses `requests` to make simple calls to a PDAP service. By default it uses the PSA unless another URL is given:"
   ]
  },
  {
   "cell_type": "code",
   "execution_count": 2,
   "id": "sharing-measure",
   "metadata": {},
   "outputs": [],
   "source": [
    "p = pdap.Pdap()"
   ]
  },
  {
   "cell_type": "markdown",
   "id": "industrial-wrapping",
   "metadata": {},
   "source": [
    "The first function uses the meta-data endpoint to lists available datasets:\n",
    "\n",
    "## `get_datasets`\n"
   ]
  },
  {
   "cell_type": "code",
   "execution_count": 3,
   "id": "solar-shopper",
   "metadata": {},
   "outputs": [],
   "source": [
    "dsets = p.get_datasets()"
   ]
  },
  {
   "cell_type": "code",
   "execution_count": 4,
   "id": "developmental-stroke",
   "metadata": {},
   "outputs": [
    {
     "data": {
      "text/html": [
       "<div>\n",
       "<style scoped>\n",
       "    .dataframe tbody tr th:only-of-type {\n",
       "        vertical-align: middle;\n",
       "    }\n",
       "\n",
       "    .dataframe tbody tr th {\n",
       "        vertical-align: top;\n",
       "    }\n",
       "\n",
       "    .dataframe thead th {\n",
       "        text-align: right;\n",
       "    }\n",
       "</style>\n",
       "<table border=\"1\" class=\"dataframe\">\n",
       "  <thead>\n",
       "    <tr style=\"text-align: right;\">\n",
       "      <th></th>\n",
       "      <th>DATA_SET.DATA_SET_ID</th>\n",
       "      <th>DATA_SET.DATA_SET_NAME</th>\n",
       "      <th>DATA_SET.DATA_ACCESS_REFERENCE</th>\n",
       "      <th>DATA_SET.XML_DESCRIPTION</th>\n",
       "      <th>DATA_SET.PRODUCER.FULL_NAME</th>\n",
       "      <th>DATA_SET.PRODUCER.INSTITUTION_NAME</th>\n",
       "      <th>DATA_SET.PRODUCER.NODE_NAME</th>\n",
       "      <th>DATA_SET.START_TIME</th>\n",
       "      <th>DATA_SET.STOP_TIME</th>\n",
       "      <th>DATA_SET.NPRODUCTS</th>\n",
       "      <th>DATA_SET.MISSION_NAME</th>\n",
       "      <th>DATA_SET.INSTRUMENT_ID</th>\n",
       "      <th>DATA_SET.INSTRUMENT_NAME</th>\n",
       "      <th>DATA_SET.TARGET_NAME</th>\n",
       "      <th>RESOURCE_CLASS</th>\n",
       "      <th>DATA_SET.RELEASE_DATE</th>\n",
       "    </tr>\n",
       "  </thead>\n",
       "  <tbody>\n",
       "    <tr>\n",
       "      <th>0</th>\n",
       "      <td>AIRUB-C-PHOTOCAM-2-EDR-HALLEY-1986-V1.0</td>\n",
       "      <td>AIRUB-HALLEY-PHOTOGRAPHIC-PROJECT-EDR-1986-V1.0</td>\n",
       "      <td>http://psa.esa.int/pdap/download?RESOURCE_CLAS...</td>\n",
       "      <td>http://psa.esa.int/pdap/files?DATA_SET_ID='AIR...</td>\n",
       "      <td></td>\n",
       "      <td></td>\n",
       "      <td></td>\n",
       "      <td>1986-02-17T06:44:00</td>\n",
       "      <td>1986-04-17T09:13:00</td>\n",
       "      <td>1833</td>\n",
       "      <td>EARTH</td>\n",
       "      <td>300</td>\n",
       "      <td>PENTACON-OPTICS-F4-300MM</td>\n",
       "      <td>1P/HALLEY</td>\n",
       "      <td>DATA_SET</td>\n",
       "      <td>2006-03-01</td>\n",
       "    </tr>\n",
       "    <tr>\n",
       "      <th>1</th>\n",
       "      <td>CH1ORB-L-C1XS-2-NPO-EDR-V1.0</td>\n",
       "      <td>CHANDRAYAAN-1-ORBITER MOON C1XS 2 NPO EDR V1.0</td>\n",
       "      <td>http://psa.esa.int/pdap/download?RESOURCE_CLAS...</td>\n",
       "      <td>http://psa.esa.int/pdap/files?DATA_SET_ID='CH1...</td>\n",
       "      <td></td>\n",
       "      <td></td>\n",
       "      <td></td>\n",
       "      <td>2008-10-22T03:37:35</td>\n",
       "      <td>2009-08-28T18:21:31</td>\n",
       "      <td>11738</td>\n",
       "      <td>CHANDRAYAAN-1</td>\n",
       "      <td>C1XS</td>\n",
       "      <td>C1XS</td>\n",
       "      <td>MOON</td>\n",
       "      <td>DATA_SET</td>\n",
       "      <td>2019-07-27</td>\n",
       "    </tr>\n",
       "    <tr>\n",
       "      <th>2</th>\n",
       "      <td>CH1ORB-L-C1XS-4-NPO-REFDR-V1.0</td>\n",
       "      <td>CHANDRAYAAN-1-ORBITER MOON C1XS 4 NPO REFDR V1.0</td>\n",
       "      <td>http://psa.esa.int/pdap/download?RESOURCE_CLAS...</td>\n",
       "      <td>http://psa.esa.int/pdap/files?DATA_SET_ID='CH1...</td>\n",
       "      <td></td>\n",
       "      <td></td>\n",
       "      <td></td>\n",
       "      <td>2008-11-20T18:32:11.358</td>\n",
       "      <td>2009-08-28T18:21:01.505</td>\n",
       "      <td>1675</td>\n",
       "      <td>CHANDRAYAAN-1</td>\n",
       "      <td>C1XS</td>\n",
       "      <td>C1XS</td>\n",
       "      <td>MOON</td>\n",
       "      <td>DATA_SET</td>\n",
       "      <td>2019-07-27</td>\n",
       "    </tr>\n",
       "    <tr>\n",
       "      <th>3</th>\n",
       "      <td>CH1ORB-L-SARA-2-NPO-EDR-CENA-V1.0</td>\n",
       "      <td>CHANDRAYAAN-1-ORBITER MOON SARA 2 NPO EDR CENA...</td>\n",
       "      <td>http://psa.esa.int/pdap/download?RESOURCE_CLAS...</td>\n",
       "      <td>http://psa.esa.int/pdap/files?DATA_SET_ID='CH1...</td>\n",
       "      <td></td>\n",
       "      <td></td>\n",
       "      <td></td>\n",
       "      <td>2008-12-08T11:54:53.374</td>\n",
       "      <td>2009-08-12T17:02:49.417</td>\n",
       "      <td>835</td>\n",
       "      <td>CHANDRAYAAN-1</td>\n",
       "      <td>SARA</td>\n",
       "      <td>SARA</td>\n",
       "      <td>MOON</td>\n",
       "      <td>DATA_SET</td>\n",
       "      <td>2019-11-26</td>\n",
       "    </tr>\n",
       "    <tr>\n",
       "      <th>4</th>\n",
       "      <td>CH1ORB-L-SARA-2-NPO-EDR-SWIM-V1.0</td>\n",
       "      <td>CHANDRAYAAN-1-ORBITER MOON SARA 2 NPO EDR SWIM...</td>\n",
       "      <td>http://psa.esa.int/pdap/download?RESOURCE_CLAS...</td>\n",
       "      <td>http://psa.esa.int/pdap/files?DATA_SET_ID='CH1...</td>\n",
       "      <td></td>\n",
       "      <td></td>\n",
       "      <td></td>\n",
       "      <td>2008-12-08T13:53:52.117</td>\n",
       "      <td>2009-08-12T17:02:49.319</td>\n",
       "      <td>1424</td>\n",
       "      <td>CHANDRAYAAN-1</td>\n",
       "      <td>SARA</td>\n",
       "      <td>SARA</td>\n",
       "      <td>MOON</td>\n",
       "      <td>DATA_SET</td>\n",
       "      <td>2019-12-05</td>\n",
       "    </tr>\n",
       "  </tbody>\n",
       "</table>\n",
       "</div>"
      ],
      "text/plain": [
       "                      DATA_SET.DATA_SET_ID  \\\n",
       "0  AIRUB-C-PHOTOCAM-2-EDR-HALLEY-1986-V1.0   \n",
       "1             CH1ORB-L-C1XS-2-NPO-EDR-V1.0   \n",
       "2           CH1ORB-L-C1XS-4-NPO-REFDR-V1.0   \n",
       "3        CH1ORB-L-SARA-2-NPO-EDR-CENA-V1.0   \n",
       "4        CH1ORB-L-SARA-2-NPO-EDR-SWIM-V1.0   \n",
       "\n",
       "                              DATA_SET.DATA_SET_NAME  \\\n",
       "0    AIRUB-HALLEY-PHOTOGRAPHIC-PROJECT-EDR-1986-V1.0   \n",
       "1     CHANDRAYAAN-1-ORBITER MOON C1XS 2 NPO EDR V1.0   \n",
       "2   CHANDRAYAAN-1-ORBITER MOON C1XS 4 NPO REFDR V1.0   \n",
       "3  CHANDRAYAAN-1-ORBITER MOON SARA 2 NPO EDR CENA...   \n",
       "4  CHANDRAYAAN-1-ORBITER MOON SARA 2 NPO EDR SWIM...   \n",
       "\n",
       "                      DATA_SET.DATA_ACCESS_REFERENCE  \\\n",
       "0  http://psa.esa.int/pdap/download?RESOURCE_CLAS...   \n",
       "1  http://psa.esa.int/pdap/download?RESOURCE_CLAS...   \n",
       "2  http://psa.esa.int/pdap/download?RESOURCE_CLAS...   \n",
       "3  http://psa.esa.int/pdap/download?RESOURCE_CLAS...   \n",
       "4  http://psa.esa.int/pdap/download?RESOURCE_CLAS...   \n",
       "\n",
       "                            DATA_SET.XML_DESCRIPTION  \\\n",
       "0  http://psa.esa.int/pdap/files?DATA_SET_ID='AIR...   \n",
       "1  http://psa.esa.int/pdap/files?DATA_SET_ID='CH1...   \n",
       "2  http://psa.esa.int/pdap/files?DATA_SET_ID='CH1...   \n",
       "3  http://psa.esa.int/pdap/files?DATA_SET_ID='CH1...   \n",
       "4  http://psa.esa.int/pdap/files?DATA_SET_ID='CH1...   \n",
       "\n",
       "  DATA_SET.PRODUCER.FULL_NAME DATA_SET.PRODUCER.INSTITUTION_NAME  \\\n",
       "0                                                                  \n",
       "1                                                                  \n",
       "2                                                                  \n",
       "3                                                                  \n",
       "4                                                                  \n",
       "\n",
       "  DATA_SET.PRODUCER.NODE_NAME      DATA_SET.START_TIME  \\\n",
       "0                                  1986-02-17T06:44:00   \n",
       "1                                  2008-10-22T03:37:35   \n",
       "2                              2008-11-20T18:32:11.358   \n",
       "3                              2008-12-08T11:54:53.374   \n",
       "4                              2008-12-08T13:53:52.117   \n",
       "\n",
       "        DATA_SET.STOP_TIME DATA_SET.NPRODUCTS DATA_SET.MISSION_NAME  \\\n",
       "0      1986-04-17T09:13:00               1833                 EARTH   \n",
       "1      2009-08-28T18:21:31              11738         CHANDRAYAAN-1   \n",
       "2  2009-08-28T18:21:01.505               1675         CHANDRAYAAN-1   \n",
       "3  2009-08-12T17:02:49.417                835         CHANDRAYAAN-1   \n",
       "4  2009-08-12T17:02:49.319               1424         CHANDRAYAAN-1   \n",
       "\n",
       "  DATA_SET.INSTRUMENT_ID  DATA_SET.INSTRUMENT_NAME DATA_SET.TARGET_NAME  \\\n",
       "0                    300  PENTACON-OPTICS-F4-300MM            1P/HALLEY   \n",
       "1                   C1XS                      C1XS                 MOON   \n",
       "2                   C1XS                      C1XS                 MOON   \n",
       "3                   SARA                      SARA                 MOON   \n",
       "4                   SARA                      SARA                 MOON   \n",
       "\n",
       "  RESOURCE_CLASS DATA_SET.RELEASE_DATE  \n",
       "0       DATA_SET            2006-03-01  \n",
       "1       DATA_SET            2019-07-27  \n",
       "2       DATA_SET            2019-07-27  \n",
       "3       DATA_SET            2019-11-26  \n",
       "4       DATA_SET            2019-12-05  "
      ]
     },
     "execution_count": 4,
     "metadata": {},
     "output_type": "execute_result"
    }
   ],
   "source": [
    "dsets.head()"
   ]
  },
  {
   "cell_type": "markdown",
   "id": "biological-inflation",
   "metadata": {},
   "source": [
    "We have ALL of the datasets now, and their basic meta data, which we can easily slice and dice.\n",
    "\n",
    "For example, let's find those with Mars as a target:"
   ]
  },
  {
   "cell_type": "code",
   "execution_count": 5,
   "id": "deluxe-consolidation",
   "metadata": {},
   "outputs": [
    {
     "data": {
      "text/html": [
       "<div>\n",
       "<style scoped>\n",
       "    .dataframe tbody tr th:only-of-type {\n",
       "        vertical-align: middle;\n",
       "    }\n",
       "\n",
       "    .dataframe tbody tr th {\n",
       "        vertical-align: top;\n",
       "    }\n",
       "\n",
       "    .dataframe thead th {\n",
       "        text-align: right;\n",
       "    }\n",
       "</style>\n",
       "<table border=\"1\" class=\"dataframe\">\n",
       "  <thead>\n",
       "    <tr style=\"text-align: right;\">\n",
       "      <th></th>\n",
       "      <th>DATA_SET.DATA_SET_ID</th>\n",
       "      <th>DATA_SET.DATA_SET_NAME</th>\n",
       "      <th>DATA_SET.DATA_ACCESS_REFERENCE</th>\n",
       "      <th>DATA_SET.XML_DESCRIPTION</th>\n",
       "      <th>DATA_SET.PRODUCER.FULL_NAME</th>\n",
       "      <th>DATA_SET.PRODUCER.INSTITUTION_NAME</th>\n",
       "      <th>DATA_SET.PRODUCER.NODE_NAME</th>\n",
       "      <th>DATA_SET.START_TIME</th>\n",
       "      <th>DATA_SET.STOP_TIME</th>\n",
       "      <th>DATA_SET.NPRODUCTS</th>\n",
       "      <th>DATA_SET.MISSION_NAME</th>\n",
       "      <th>DATA_SET.INSTRUMENT_ID</th>\n",
       "      <th>DATA_SET.INSTRUMENT_NAME</th>\n",
       "      <th>DATA_SET.TARGET_NAME</th>\n",
       "      <th>RESOURCE_CLASS</th>\n",
       "      <th>DATA_SET.RELEASE_DATE</th>\n",
       "    </tr>\n",
       "  </thead>\n",
       "  <tbody>\n",
       "    <tr>\n",
       "      <th>34</th>\n",
       "      <td>MEX-M-ASPERA3-2/3-EDR/RDR-NPI-EXT1-V1.0</td>\n",
       "      <td>MARS EXPRESS ASPERA-3 RAW-CAL NTRL PARTICLE IM...</td>\n",
       "      <td>http://psa.esa.int/pdap/download?RESOURCE_CLAS...</td>\n",
       "      <td>http://psa.esa.int/pdap/files?DATA_SET_ID='MEX...</td>\n",
       "      <td></td>\n",
       "      <td></td>\n",
       "      <td></td>\n",
       "      <td>2006-01-01T22:42:28.096</td>\n",
       "      <td>2007-10-01T01:42:54.52</td>\n",
       "      <td>1532</td>\n",
       "      <td>MARS EXPRESS</td>\n",
       "      <td>ASPERA-3</td>\n",
       "      <td>ANALYZER OF SPACE PLASMA AND ENERGETIC ATOMS (...</td>\n",
       "      <td>MARS</td>\n",
       "      <td>DATA_SET</td>\n",
       "      <td>2007-01-31</td>\n",
       "    </tr>\n",
       "    <tr>\n",
       "      <th>35</th>\n",
       "      <td>MEX-M-ASPERA3-2/3-EDR/RDR-NPI-EXT2-V1.0</td>\n",
       "      <td>MEX-M-ASPERA3-2/3-EDR/RDR-NPI-EXT2-V1.0</td>\n",
       "      <td>http://psa.esa.int/pdap/download?RESOURCE_CLAS...</td>\n",
       "      <td>http://psa.esa.int/pdap/files?DATA_SET_ID='MEX...</td>\n",
       "      <td></td>\n",
       "      <td></td>\n",
       "      <td></td>\n",
       "      <td>2007-10-01T04:39:48.77</td>\n",
       "      <td>2009-12-31T22:38:25.988</td>\n",
       "      <td>2302</td>\n",
       "      <td>MARS EXPRESS</td>\n",
       "      <td>ASPERA-3</td>\n",
       "      <td>ANALYZER OF SPACE PLASMA AND ENERGETIC ATOMS (...</td>\n",
       "      <td>MARS</td>\n",
       "      <td>DATA_SET</td>\n",
       "      <td>2007-01-31</td>\n",
       "    </tr>\n",
       "    <tr>\n",
       "      <th>36</th>\n",
       "      <td>MEX-M-ASPERA3-2/3-EDR/RDR-NPI-EXT3-V1.0</td>\n",
       "      <td>MEX-M-ASPERA3-2/3-EDR/RDR-NPI-EXT3-V1.0</td>\n",
       "      <td>http://psa.esa.int/pdap/download?RESOURCE_CLAS...</td>\n",
       "      <td>http://psa.esa.int/pdap/files?DATA_SET_ID='MEX...</td>\n",
       "      <td></td>\n",
       "      <td></td>\n",
       "      <td></td>\n",
       "      <td>2010-01-01T15:49:39.192</td>\n",
       "      <td>2012-12-31T22:26:30.631</td>\n",
       "      <td>2026</td>\n",
       "      <td>MARS EXPRESS</td>\n",
       "      <td>ASPERA-3</td>\n",
       "      <td>ANALYZER OF SPACE PLASMA AND ENERGETIC ATOMS (...</td>\n",
       "      <td>MARS</td>\n",
       "      <td>DATA_SET</td>\n",
       "      <td>2011-01-19</td>\n",
       "    </tr>\n",
       "    <tr>\n",
       "      <th>37</th>\n",
       "      <td>MEX-M-ASPERA3-2/3-EDR/RDR-NPI-EXT4-V1.0</td>\n",
       "      <td>MEX-M-ASPERA3-2/3-EDR/RDR-NPI-EXT4-V1.0</td>\n",
       "      <td>http://psa.esa.int/pdap/download?RESOURCE_CLAS...</td>\n",
       "      <td>http://psa.esa.int/pdap/files?DATA_SET_ID='MEX...</td>\n",
       "      <td></td>\n",
       "      <td></td>\n",
       "      <td></td>\n",
       "      <td>2013-01-01T01:34:28.707</td>\n",
       "      <td>2015-01-01T03:40:04.823</td>\n",
       "      <td>1948</td>\n",
       "      <td>MARS EXPRESS</td>\n",
       "      <td>ASPERA-3</td>\n",
       "      <td>ANALYZER OF SPACE PLASMA AND ENERGETIC ATOMS (...</td>\n",
       "      <td>MARS</td>\n",
       "      <td>DATA_SET</td>\n",
       "      <td>2017-02-07</td>\n",
       "    </tr>\n",
       "    <tr>\n",
       "      <th>38</th>\n",
       "      <td>MEX-M-ASPERA3-2/3-EDR/RDR-NPI-EXT5-V1.0</td>\n",
       "      <td>MEX-M-ASPERA3-2/3-EDR/RDR-NPI-EXT5-V1.0</td>\n",
       "      <td>http://psa.esa.int/pdap/download?RESOURCE_CLAS...</td>\n",
       "      <td>http://psa.esa.int/pdap/files?DATA_SET_ID='MEX...</td>\n",
       "      <td></td>\n",
       "      <td></td>\n",
       "      <td></td>\n",
       "      <td>2015-01-01T04:00:26.611</td>\n",
       "      <td>2017-01-01T02:45:17.442</td>\n",
       "      <td>1465</td>\n",
       "      <td>MARS EXPRESS</td>\n",
       "      <td>ASPERA-3</td>\n",
       "      <td>ANALYZER OF SPACE PLASMA AND ENERGETIC ATOMS (...</td>\n",
       "      <td>MARS</td>\n",
       "      <td>DATA_SET</td>\n",
       "      <td>2017-02-07</td>\n",
       "    </tr>\n",
       "    <tr>\n",
       "      <th>...</th>\n",
       "      <td>...</td>\n",
       "      <td>...</td>\n",
       "      <td>...</td>\n",
       "      <td>...</td>\n",
       "      <td>...</td>\n",
       "      <td>...</td>\n",
       "      <td>...</td>\n",
       "      <td>...</td>\n",
       "      <td>...</td>\n",
       "      <td>...</td>\n",
       "      <td>...</td>\n",
       "      <td>...</td>\n",
       "      <td>...</td>\n",
       "      <td>...</td>\n",
       "      <td>...</td>\n",
       "      <td>...</td>\n",
       "    </tr>\n",
       "    <tr>\n",
       "      <th>7080</th>\n",
       "      <td>RO-X-SREM-2-MARS-V1.0</td>\n",
       "      <td>ROSETTA-ORBITER X SREM 2 MARS V1.0</td>\n",
       "      <td>http://psa.esa.int/pdap/download?RESOURCE_CLAS...</td>\n",
       "      <td>http://psa.esa.int/pdap/files?DATA_SET_ID='RO-...</td>\n",
       "      <td></td>\n",
       "      <td></td>\n",
       "      <td></td>\n",
       "      <td>2006-07-29T00:00:27.741</td>\n",
       "      <td>2007-05-28T23:57:32.769</td>\n",
       "      <td>304</td>\n",
       "      <td>INTERNATIONAL ROSETTA MISSION</td>\n",
       "      <td>N/A</td>\n",
       "      <td>STANDARD RADIATION ENVIROMENT MONITOR</td>\n",
       "      <td>MARS</td>\n",
       "      <td>DATA_SET</td>\n",
       "      <td>2020-12-08</td>\n",
       "    </tr>\n",
       "    <tr>\n",
       "      <th>7129</th>\n",
       "      <td>RO-X-SREM-5-MARS-V1.0</td>\n",
       "      <td>ROSETTA-ORBITER X SREM 5 MARS V1.0</td>\n",
       "      <td>http://psa.esa.int/pdap/download?RESOURCE_CLAS...</td>\n",
       "      <td>http://psa.esa.int/pdap/files?DATA_SET_ID='RO-...</td>\n",
       "      <td></td>\n",
       "      <td></td>\n",
       "      <td></td>\n",
       "      <td>2006-07-29T00:00:27.741</td>\n",
       "      <td>2007-05-28T23:57:32.769</td>\n",
       "      <td>303</td>\n",
       "      <td>INTERNATIONAL ROSETTA MISSION</td>\n",
       "      <td>N/A</td>\n",
       "      <td>STANDARD RADIATION ENVIROMENT MONITOR</td>\n",
       "      <td>MARS</td>\n",
       "      <td>DATA_SET</td>\n",
       "      <td>2020-12-08</td>\n",
       "    </tr>\n",
       "    <tr>\n",
       "      <th>7177</th>\n",
       "      <td>urn:esa:psa:em16_tgo_acs</td>\n",
       "      <td>ACS</td>\n",
       "      <td>http://psa.esa.int/pdap/download?RESOURCE_CLAS...</td>\n",
       "      <td>http://psa.esa.int/pdap/files?DATA_SET_ID='urn...</td>\n",
       "      <td></td>\n",
       "      <td></td>\n",
       "      <td></td>\n",
       "      <td>2016-03-14T00:00:00</td>\n",
       "      <td>2021-03-07T20:06:09.614</td>\n",
       "      <td>2281756</td>\n",
       "      <td>ExoMars 2016</td>\n",
       "      <td>ACS</td>\n",
       "      <td>ACS</td>\n",
       "      <td>urn:nasa:pds:context:target:planet.mars</td>\n",
       "      <td>DATA_SET</td>\n",
       "      <td>2020-07-31</td>\n",
       "    </tr>\n",
       "    <tr>\n",
       "      <th>7178</th>\n",
       "      <td>urn:esa:psa:em16_tgo_cas</td>\n",
       "      <td>Instrument CASSIS</td>\n",
       "      <td>http://psa.esa.int/pdap/download?RESOURCE_CLAS...</td>\n",
       "      <td>http://psa.esa.int/pdap/files?DATA_SET_ID='urn...</td>\n",
       "      <td></td>\n",
       "      <td></td>\n",
       "      <td></td>\n",
       "      <td>2016-03-14T00:00:00</td>\n",
       "      <td>2021-03-07T21:44:08.425</td>\n",
       "      <td>4166552</td>\n",
       "      <td>ExoMars 2016</td>\n",
       "      <td>CaSSIS</td>\n",
       "      <td>CASSIS</td>\n",
       "      <td>urn:nasa:pds:context:target:planet.mars</td>\n",
       "      <td>DATA_SET</td>\n",
       "      <td>2020-04-30</td>\n",
       "    </tr>\n",
       "    <tr>\n",
       "      <th>7180</th>\n",
       "      <td>urn:esa:psa:em16_tgo_nmd</td>\n",
       "      <td>NOMAD</td>\n",
       "      <td>http://psa.esa.int/pdap/download?RESOURCE_CLAS...</td>\n",
       "      <td>http://psa.esa.int/pdap/files?DATA_SET_ID='urn...</td>\n",
       "      <td></td>\n",
       "      <td></td>\n",
       "      <td></td>\n",
       "      <td>2016-04-04T06:00:00</td>\n",
       "      <td>2021-03-07T23:10:23.793</td>\n",
       "      <td>149874</td>\n",
       "      <td>ExoMars 2016</td>\n",
       "      <td>NOMAD</td>\n",
       "      <td>NOMAD</td>\n",
       "      <td>urn:nasa:pds:context:target:planet.mars</td>\n",
       "      <td>DATA_SET</td>\n",
       "      <td>2020-02-29</td>\n",
       "    </tr>\n",
       "  </tbody>\n",
       "</table>\n",
       "<p>2751 rows × 16 columns</p>\n",
       "</div>"
      ],
      "text/plain": [
       "                         DATA_SET.DATA_SET_ID  \\\n",
       "34    MEX-M-ASPERA3-2/3-EDR/RDR-NPI-EXT1-V1.0   \n",
       "35    MEX-M-ASPERA3-2/3-EDR/RDR-NPI-EXT2-V1.0   \n",
       "36    MEX-M-ASPERA3-2/3-EDR/RDR-NPI-EXT3-V1.0   \n",
       "37    MEX-M-ASPERA3-2/3-EDR/RDR-NPI-EXT4-V1.0   \n",
       "38    MEX-M-ASPERA3-2/3-EDR/RDR-NPI-EXT5-V1.0   \n",
       "...                                       ...   \n",
       "7080                    RO-X-SREM-2-MARS-V1.0   \n",
       "7129                    RO-X-SREM-5-MARS-V1.0   \n",
       "7177                 urn:esa:psa:em16_tgo_acs   \n",
       "7178                 urn:esa:psa:em16_tgo_cas   \n",
       "7180                 urn:esa:psa:em16_tgo_nmd   \n",
       "\n",
       "                                 DATA_SET.DATA_SET_NAME  \\\n",
       "34    MARS EXPRESS ASPERA-3 RAW-CAL NTRL PARTICLE IM...   \n",
       "35              MEX-M-ASPERA3-2/3-EDR/RDR-NPI-EXT2-V1.0   \n",
       "36              MEX-M-ASPERA3-2/3-EDR/RDR-NPI-EXT3-V1.0   \n",
       "37              MEX-M-ASPERA3-2/3-EDR/RDR-NPI-EXT4-V1.0   \n",
       "38              MEX-M-ASPERA3-2/3-EDR/RDR-NPI-EXT5-V1.0   \n",
       "...                                                 ...   \n",
       "7080                 ROSETTA-ORBITER X SREM 2 MARS V1.0   \n",
       "7129                 ROSETTA-ORBITER X SREM 5 MARS V1.0   \n",
       "7177                                                ACS   \n",
       "7178                                  Instrument CASSIS   \n",
       "7180                                              NOMAD   \n",
       "\n",
       "                         DATA_SET.DATA_ACCESS_REFERENCE  \\\n",
       "34    http://psa.esa.int/pdap/download?RESOURCE_CLAS...   \n",
       "35    http://psa.esa.int/pdap/download?RESOURCE_CLAS...   \n",
       "36    http://psa.esa.int/pdap/download?RESOURCE_CLAS...   \n",
       "37    http://psa.esa.int/pdap/download?RESOURCE_CLAS...   \n",
       "38    http://psa.esa.int/pdap/download?RESOURCE_CLAS...   \n",
       "...                                                 ...   \n",
       "7080  http://psa.esa.int/pdap/download?RESOURCE_CLAS...   \n",
       "7129  http://psa.esa.int/pdap/download?RESOURCE_CLAS...   \n",
       "7177  http://psa.esa.int/pdap/download?RESOURCE_CLAS...   \n",
       "7178  http://psa.esa.int/pdap/download?RESOURCE_CLAS...   \n",
       "7180  http://psa.esa.int/pdap/download?RESOURCE_CLAS...   \n",
       "\n",
       "                               DATA_SET.XML_DESCRIPTION  \\\n",
       "34    http://psa.esa.int/pdap/files?DATA_SET_ID='MEX...   \n",
       "35    http://psa.esa.int/pdap/files?DATA_SET_ID='MEX...   \n",
       "36    http://psa.esa.int/pdap/files?DATA_SET_ID='MEX...   \n",
       "37    http://psa.esa.int/pdap/files?DATA_SET_ID='MEX...   \n",
       "38    http://psa.esa.int/pdap/files?DATA_SET_ID='MEX...   \n",
       "...                                                 ...   \n",
       "7080  http://psa.esa.int/pdap/files?DATA_SET_ID='RO-...   \n",
       "7129  http://psa.esa.int/pdap/files?DATA_SET_ID='RO-...   \n",
       "7177  http://psa.esa.int/pdap/files?DATA_SET_ID='urn...   \n",
       "7178  http://psa.esa.int/pdap/files?DATA_SET_ID='urn...   \n",
       "7180  http://psa.esa.int/pdap/files?DATA_SET_ID='urn...   \n",
       "\n",
       "     DATA_SET.PRODUCER.FULL_NAME DATA_SET.PRODUCER.INSTITUTION_NAME  \\\n",
       "34                                                                    \n",
       "35                                                                    \n",
       "36                                                                    \n",
       "37                                                                    \n",
       "38                                                                    \n",
       "...                          ...                                ...   \n",
       "7080                                                                  \n",
       "7129                                                                  \n",
       "7177                                                                  \n",
       "7178                                                                  \n",
       "7180                                                                  \n",
       "\n",
       "     DATA_SET.PRODUCER.NODE_NAME      DATA_SET.START_TIME  \\\n",
       "34                                2006-01-01T22:42:28.096   \n",
       "35                                 2007-10-01T04:39:48.77   \n",
       "36                                2010-01-01T15:49:39.192   \n",
       "37                                2013-01-01T01:34:28.707   \n",
       "38                                2015-01-01T04:00:26.611   \n",
       "...                          ...                      ...   \n",
       "7080                              2006-07-29T00:00:27.741   \n",
       "7129                              2006-07-29T00:00:27.741   \n",
       "7177                                  2016-03-14T00:00:00   \n",
       "7178                                  2016-03-14T00:00:00   \n",
       "7180                                  2016-04-04T06:00:00   \n",
       "\n",
       "           DATA_SET.STOP_TIME DATA_SET.NPRODUCTS  \\\n",
       "34     2007-10-01T01:42:54.52               1532   \n",
       "35    2009-12-31T22:38:25.988               2302   \n",
       "36    2012-12-31T22:26:30.631               2026   \n",
       "37    2015-01-01T03:40:04.823               1948   \n",
       "38    2017-01-01T02:45:17.442               1465   \n",
       "...                       ...                ...   \n",
       "7080  2007-05-28T23:57:32.769                304   \n",
       "7129  2007-05-28T23:57:32.769                303   \n",
       "7177  2021-03-07T20:06:09.614            2281756   \n",
       "7178  2021-03-07T21:44:08.425            4166552   \n",
       "7180  2021-03-07T23:10:23.793             149874   \n",
       "\n",
       "              DATA_SET.MISSION_NAME DATA_SET.INSTRUMENT_ID  \\\n",
       "34                     MARS EXPRESS               ASPERA-3   \n",
       "35                     MARS EXPRESS               ASPERA-3   \n",
       "36                     MARS EXPRESS               ASPERA-3   \n",
       "37                     MARS EXPRESS               ASPERA-3   \n",
       "38                     MARS EXPRESS               ASPERA-3   \n",
       "...                             ...                    ...   \n",
       "7080  INTERNATIONAL ROSETTA MISSION                    N/A   \n",
       "7129  INTERNATIONAL ROSETTA MISSION                    N/A   \n",
       "7177                   ExoMars 2016                    ACS   \n",
       "7178                   ExoMars 2016                 CaSSIS   \n",
       "7180                   ExoMars 2016                  NOMAD   \n",
       "\n",
       "                               DATA_SET.INSTRUMENT_NAME  \\\n",
       "34    ANALYZER OF SPACE PLASMA AND ENERGETIC ATOMS (...   \n",
       "35    ANALYZER OF SPACE PLASMA AND ENERGETIC ATOMS (...   \n",
       "36    ANALYZER OF SPACE PLASMA AND ENERGETIC ATOMS (...   \n",
       "37    ANALYZER OF SPACE PLASMA AND ENERGETIC ATOMS (...   \n",
       "38    ANALYZER OF SPACE PLASMA AND ENERGETIC ATOMS (...   \n",
       "...                                                 ...   \n",
       "7080              STANDARD RADIATION ENVIROMENT MONITOR   \n",
       "7129              STANDARD RADIATION ENVIROMENT MONITOR   \n",
       "7177                                                ACS   \n",
       "7178                                             CASSIS   \n",
       "7180                                              NOMAD   \n",
       "\n",
       "                         DATA_SET.TARGET_NAME RESOURCE_CLASS  \\\n",
       "34                                       MARS       DATA_SET   \n",
       "35                                       MARS       DATA_SET   \n",
       "36                                       MARS       DATA_SET   \n",
       "37                                       MARS       DATA_SET   \n",
       "38                                       MARS       DATA_SET   \n",
       "...                                       ...            ...   \n",
       "7080                                     MARS       DATA_SET   \n",
       "7129                                     MARS       DATA_SET   \n",
       "7177  urn:nasa:pds:context:target:planet.mars       DATA_SET   \n",
       "7178  urn:nasa:pds:context:target:planet.mars       DATA_SET   \n",
       "7180  urn:nasa:pds:context:target:planet.mars       DATA_SET   \n",
       "\n",
       "     DATA_SET.RELEASE_DATE  \n",
       "34              2007-01-31  \n",
       "35              2007-01-31  \n",
       "36              2011-01-19  \n",
       "37              2017-02-07  \n",
       "38              2017-02-07  \n",
       "...                    ...  \n",
       "7080            2020-12-08  \n",
       "7129            2020-12-08  \n",
       "7177            2020-07-31  \n",
       "7178            2020-04-30  \n",
       "7180            2020-02-29  \n",
       "\n",
       "[2751 rows x 16 columns]"
      ]
     },
     "execution_count": 5,
     "metadata": {},
     "output_type": "execute_result"
    }
   ],
   "source": [
    "dsets[dsets['DATA_SET.TARGET_NAME'].str.contains('mars', case=False)]"
   ]
  },
  {
   "cell_type": "markdown",
   "id": "involved-substitute",
   "metadata": {},
   "source": [
    "## `get_products`"
   ]
  },
  {
   "cell_type": "code",
   "execution_count": 6,
   "id": "twenty-confirmation",
   "metadata": {},
   "outputs": [
    {
     "data": {
      "text/plain": [
       "\u001b[0;31mSignature:\u001b[0m \u001b[0mp\u001b[0m\u001b[0;34m.\u001b[0m\u001b[0mget_products\u001b[0m\u001b[0;34m(\u001b[0m\u001b[0mdataset_id\u001b[0m\u001b[0;34m)\u001b[0m\u001b[0;34m\u001b[0m\u001b[0;34m\u001b[0m\u001b[0m\n",
       "\u001b[0;31mDocstring:\u001b[0m\n",
       "Queries the meta-data endpoint for products in the dataset ID\n",
       "given in the call\n",
       "\u001b[0;31mFile:\u001b[0m      ~/Dropbox/work/bepi/software/psa_utils/psa_utils/pdap.py\n",
       "\u001b[0;31mType:\u001b[0m      method\n"
      ]
     },
     "metadata": {},
     "output_type": "display_data"
    }
   ],
   "source": [
    "p.get_products?"
   ]
  },
  {
   "cell_type": "code",
   "execution_count": 7,
   "id": "liked-pregnancy",
   "metadata": {},
   "outputs": [],
   "source": [
    "products = p.get_products(dataset_id='RO-X-SREM-2-MARS-V1.0')"
   ]
  },
  {
   "cell_type": "code",
   "execution_count": 8,
   "id": "bizarre-stake",
   "metadata": {},
   "outputs": [
    {
     "data": {
      "text/html": [
       "<div>\n",
       "<style scoped>\n",
       "    .dataframe tbody tr th:only-of-type {\n",
       "        vertical-align: middle;\n",
       "    }\n",
       "\n",
       "    .dataframe tbody tr th {\n",
       "        vertical-align: top;\n",
       "    }\n",
       "\n",
       "    .dataframe thead th {\n",
       "        text-align: right;\n",
       "    }\n",
       "</style>\n",
       "<table border=\"1\" class=\"dataframe\">\n",
       "  <thead>\n",
       "    <tr style=\"text-align: right;\">\n",
       "      <th></th>\n",
       "      <th>PRODUCT.PRODUCT_ID</th>\n",
       "      <th>PRODUCT.DATA_ACCESS_REFERENCE</th>\n",
       "      <th>DATA_SET.DATA_SET_ID</th>\n",
       "      <th>DATA_SET.DATA_SET_NAME</th>\n",
       "      <th>DATA_SET.MISSION_NAME</th>\n",
       "      <th>DATA_SET.PRODUCER.FULL_NAME</th>\n",
       "      <th>DATA_SET.PRODUCER.INSTITUTION_NAME</th>\n",
       "      <th>DATA_SET.PRODUCER.NODE_NAME</th>\n",
       "      <th>PRODUCT.TARGET_NAME</th>\n",
       "      <th>PRODUCT.TARGET_TYPE</th>\n",
       "      <th>PRODUCT.INSTRUMENT_ID</th>\n",
       "      <th>PRODUCT.INSTRUMENT_NAME</th>\n",
       "      <th>PRODUCT.START_TIME</th>\n",
       "      <th>PRODUCT.STOP_TIME</th>\n",
       "      <th>PRODUCT.ICON_ACCESS_REFERENCE</th>\n",
       "      <th>RESOURCE_CLASS</th>\n",
       "      <th>VID</th>\n",
       "    </tr>\n",
       "  </thead>\n",
       "  <tbody>\n",
       "    <tr>\n",
       "      <th>0</th>\n",
       "      <td>RO-X-SREM-2-MARS-V1.0:DATA:SREM_L2_20070528</td>\n",
       "      <td>http://psa.esa.int/pdap/download?RESOURCE_CLAS...</td>\n",
       "      <td>RO-X-SREM-2-MARS-V1.0</td>\n",
       "      <td>ROSETTA-ORBITER X SREM 2 MARS V1.0</td>\n",
       "      <td>INTERNATIONAL ROSETTA MISSION</td>\n",
       "      <td></td>\n",
       "      <td></td>\n",
       "      <td></td>\n",
       "      <td>MARS</td>\n",
       "      <td>PLANET</td>\n",
       "      <td>N/A</td>\n",
       "      <td>STANDARD RADIATION ENVIROMENT MONITOR</td>\n",
       "      <td>2007-05-28T00:03:03.755</td>\n",
       "      <td>2007-05-28T23:57:32.769</td>\n",
       "      <td></td>\n",
       "      <td>PRODUCT</td>\n",
       "      <td>1.0</td>\n",
       "    </tr>\n",
       "    <tr>\n",
       "      <th>1</th>\n",
       "      <td>RO-X-SREM-2-MARS-V1.0:DATA:SREM_L2_20070527</td>\n",
       "      <td>http://psa.esa.int/pdap/download?RESOURCE_CLAS...</td>\n",
       "      <td>RO-X-SREM-2-MARS-V1.0</td>\n",
       "      <td>ROSETTA-ORBITER X SREM 2 MARS V1.0</td>\n",
       "      <td>INTERNATIONAL ROSETTA MISSION</td>\n",
       "      <td></td>\n",
       "      <td></td>\n",
       "      <td></td>\n",
       "      <td>MARS</td>\n",
       "      <td>PLANET</td>\n",
       "      <td>N/A</td>\n",
       "      <td>STANDARD RADIATION ENVIROMENT MONITOR</td>\n",
       "      <td>2007-05-27T00:00:04.24</td>\n",
       "      <td>2007-05-27T23:59:04.255</td>\n",
       "      <td></td>\n",
       "      <td>PRODUCT</td>\n",
       "      <td>1.0</td>\n",
       "    </tr>\n",
       "    <tr>\n",
       "      <th>2</th>\n",
       "      <td>RO-X-SREM-2-MARS-V1.0:DATA:SREM_L2_20070526</td>\n",
       "      <td>http://psa.esa.int/pdap/download?RESOURCE_CLAS...</td>\n",
       "      <td>RO-X-SREM-2-MARS-V1.0</td>\n",
       "      <td>ROSETTA-ORBITER X SREM 2 MARS V1.0</td>\n",
       "      <td>INTERNATIONAL ROSETTA MISSION</td>\n",
       "      <td></td>\n",
       "      <td></td>\n",
       "      <td></td>\n",
       "      <td>MARS</td>\n",
       "      <td>PLANET</td>\n",
       "      <td>N/A</td>\n",
       "      <td>STANDARD RADIATION ENVIROMENT MONITOR</td>\n",
       "      <td>2007-05-26T00:00:28.225</td>\n",
       "      <td>2007-05-26T23:56:03.74</td>\n",
       "      <td></td>\n",
       "      <td>PRODUCT</td>\n",
       "      <td>1.0</td>\n",
       "    </tr>\n",
       "    <tr>\n",
       "      <th>3</th>\n",
       "      <td>RO-X-SREM-2-MARS-V1.0:DATA:SREM_L2_20070525</td>\n",
       "      <td>http://psa.esa.int/pdap/download?RESOURCE_CLAS...</td>\n",
       "      <td>RO-X-SREM-2-MARS-V1.0</td>\n",
       "      <td>ROSETTA-ORBITER X SREM 2 MARS V1.0</td>\n",
       "      <td>INTERNATIONAL ROSETTA MISSION</td>\n",
       "      <td></td>\n",
       "      <td></td>\n",
       "      <td></td>\n",
       "      <td>MARS</td>\n",
       "      <td>PLANET</td>\n",
       "      <td>N/A</td>\n",
       "      <td>STANDARD RADIATION ENVIROMENT MONITOR</td>\n",
       "      <td>2007-05-25T00:00:00.211</td>\n",
       "      <td>2007-05-25T23:56:32.225</td>\n",
       "      <td></td>\n",
       "      <td>PRODUCT</td>\n",
       "      <td>1.0</td>\n",
       "    </tr>\n",
       "    <tr>\n",
       "      <th>4</th>\n",
       "      <td>RO-X-SREM-2-MARS-V1.0:DATA:SREM_L2_20070524</td>\n",
       "      <td>http://psa.esa.int/pdap/download?RESOURCE_CLAS...</td>\n",
       "      <td>RO-X-SREM-2-MARS-V1.0</td>\n",
       "      <td>ROSETTA-ORBITER X SREM 2 MARS V1.0</td>\n",
       "      <td>INTERNATIONAL ROSETTA MISSION</td>\n",
       "      <td></td>\n",
       "      <td></td>\n",
       "      <td></td>\n",
       "      <td>MARS</td>\n",
       "      <td>PLANET</td>\n",
       "      <td>N/A</td>\n",
       "      <td>STANDARD RADIATION ENVIROMENT MONITOR</td>\n",
       "      <td>2007-05-24T00:02:32.696</td>\n",
       "      <td>2007-05-24T23:56:00.211</td>\n",
       "      <td></td>\n",
       "      <td>PRODUCT</td>\n",
       "      <td>1.0</td>\n",
       "    </tr>\n",
       "  </tbody>\n",
       "</table>\n",
       "</div>"
      ],
      "text/plain": [
       "                            PRODUCT.PRODUCT_ID  \\\n",
       "0  RO-X-SREM-2-MARS-V1.0:DATA:SREM_L2_20070528   \n",
       "1  RO-X-SREM-2-MARS-V1.0:DATA:SREM_L2_20070527   \n",
       "2  RO-X-SREM-2-MARS-V1.0:DATA:SREM_L2_20070526   \n",
       "3  RO-X-SREM-2-MARS-V1.0:DATA:SREM_L2_20070525   \n",
       "4  RO-X-SREM-2-MARS-V1.0:DATA:SREM_L2_20070524   \n",
       "\n",
       "                       PRODUCT.DATA_ACCESS_REFERENCE   DATA_SET.DATA_SET_ID  \\\n",
       "0  http://psa.esa.int/pdap/download?RESOURCE_CLAS...  RO-X-SREM-2-MARS-V1.0   \n",
       "1  http://psa.esa.int/pdap/download?RESOURCE_CLAS...  RO-X-SREM-2-MARS-V1.0   \n",
       "2  http://psa.esa.int/pdap/download?RESOURCE_CLAS...  RO-X-SREM-2-MARS-V1.0   \n",
       "3  http://psa.esa.int/pdap/download?RESOURCE_CLAS...  RO-X-SREM-2-MARS-V1.0   \n",
       "4  http://psa.esa.int/pdap/download?RESOURCE_CLAS...  RO-X-SREM-2-MARS-V1.0   \n",
       "\n",
       "               DATA_SET.DATA_SET_NAME          DATA_SET.MISSION_NAME  \\\n",
       "0  ROSETTA-ORBITER X SREM 2 MARS V1.0  INTERNATIONAL ROSETTA MISSION   \n",
       "1  ROSETTA-ORBITER X SREM 2 MARS V1.0  INTERNATIONAL ROSETTA MISSION   \n",
       "2  ROSETTA-ORBITER X SREM 2 MARS V1.0  INTERNATIONAL ROSETTA MISSION   \n",
       "3  ROSETTA-ORBITER X SREM 2 MARS V1.0  INTERNATIONAL ROSETTA MISSION   \n",
       "4  ROSETTA-ORBITER X SREM 2 MARS V1.0  INTERNATIONAL ROSETTA MISSION   \n",
       "\n",
       "  DATA_SET.PRODUCER.FULL_NAME DATA_SET.PRODUCER.INSTITUTION_NAME  \\\n",
       "0                                                                  \n",
       "1                                                                  \n",
       "2                                                                  \n",
       "3                                                                  \n",
       "4                                                                  \n",
       "\n",
       "  DATA_SET.PRODUCER.NODE_NAME PRODUCT.TARGET_NAME PRODUCT.TARGET_TYPE  \\\n",
       "0                                            MARS              PLANET   \n",
       "1                                            MARS              PLANET   \n",
       "2                                            MARS              PLANET   \n",
       "3                                            MARS              PLANET   \n",
       "4                                            MARS              PLANET   \n",
       "\n",
       "  PRODUCT.INSTRUMENT_ID                PRODUCT.INSTRUMENT_NAME  \\\n",
       "0                   N/A  STANDARD RADIATION ENVIROMENT MONITOR   \n",
       "1                   N/A  STANDARD RADIATION ENVIROMENT MONITOR   \n",
       "2                   N/A  STANDARD RADIATION ENVIROMENT MONITOR   \n",
       "3                   N/A  STANDARD RADIATION ENVIROMENT MONITOR   \n",
       "4                   N/A  STANDARD RADIATION ENVIROMENT MONITOR   \n",
       "\n",
       "        PRODUCT.START_TIME        PRODUCT.STOP_TIME  \\\n",
       "0  2007-05-28T00:03:03.755  2007-05-28T23:57:32.769   \n",
       "1   2007-05-27T00:00:04.24  2007-05-27T23:59:04.255   \n",
       "2  2007-05-26T00:00:28.225   2007-05-26T23:56:03.74   \n",
       "3  2007-05-25T00:00:00.211  2007-05-25T23:56:32.225   \n",
       "4  2007-05-24T00:02:32.696  2007-05-24T23:56:00.211   \n",
       "\n",
       "  PRODUCT.ICON_ACCESS_REFERENCE RESOURCE_CLASS  VID  \n",
       "0                                      PRODUCT  1.0  \n",
       "1                                      PRODUCT  1.0  \n",
       "2                                      PRODUCT  1.0  \n",
       "3                                      PRODUCT  1.0  \n",
       "4                                      PRODUCT  1.0  "
      ]
     },
     "execution_count": 8,
     "metadata": {},
     "output_type": "execute_result"
    }
   ],
   "source": [
    "products.head()"
   ]
  },
  {
   "cell_type": "markdown",
   "id": "downtown-saying",
   "metadata": {},
   "source": [
    "Let's look at what one entry contains:"
   ]
  },
  {
   "cell_type": "code",
   "execution_count": 9,
   "id": "funny-vietnamese",
   "metadata": {},
   "outputs": [
    {
     "data": {
      "text/plain": [
       "PRODUCT.PRODUCT_ID                          RO-X-SREM-2-MARS-V1.0:DATA:SREM_L2_20070528\n",
       "PRODUCT.DATA_ACCESS_REFERENCE         http://psa.esa.int/pdap/download?RESOURCE_CLAS...\n",
       "DATA_SET.DATA_SET_ID                                              RO-X-SREM-2-MARS-V1.0\n",
       "DATA_SET.DATA_SET_NAME                               ROSETTA-ORBITER X SREM 2 MARS V1.0\n",
       "DATA_SET.MISSION_NAME                                     INTERNATIONAL ROSETTA MISSION\n",
       "DATA_SET.PRODUCER.FULL_NAME                                                            \n",
       "DATA_SET.PRODUCER.INSTITUTION_NAME                                                     \n",
       "DATA_SET.PRODUCER.NODE_NAME                                                            \n",
       "PRODUCT.TARGET_NAME                                                                MARS\n",
       "PRODUCT.TARGET_TYPE                                                              PLANET\n",
       "PRODUCT.INSTRUMENT_ID                                                               N/A\n",
       "PRODUCT.INSTRUMENT_NAME                           STANDARD RADIATION ENVIROMENT MONITOR\n",
       "PRODUCT.START_TIME                                              2007-05-28T00:03:03.755\n",
       "PRODUCT.STOP_TIME                                               2007-05-28T23:57:32.769\n",
       "PRODUCT.ICON_ACCESS_REFERENCE                                                          \n",
       "RESOURCE_CLASS                                                                  PRODUCT\n",
       "VID                                                                                 1.0\n",
       "Name: 0, dtype: object"
      ]
     },
     "execution_count": 9,
     "metadata": {},
     "output_type": "execute_result"
    }
   ],
   "source": [
    "products.iloc[0]"
   ]
  },
  {
   "cell_type": "markdown",
   "id": "fantastic-shade",
   "metadata": {},
   "source": [
    "## `get_product`"
   ]
  },
  {
   "cell_type": "code",
   "execution_count": 10,
   "id": "posted-heritage",
   "metadata": {},
   "outputs": [
    {
     "data": {
      "text/plain": [
       "\u001b[0;31mSignature:\u001b[0m \u001b[0mp\u001b[0m\u001b[0;34m.\u001b[0m\u001b[0mget_product\u001b[0m\u001b[0;34m(\u001b[0m\u001b[0mproduct_id\u001b[0m\u001b[0;34m)\u001b[0m\u001b[0;34m\u001b[0m\u001b[0;34m\u001b[0m\u001b[0m\n",
       "\u001b[0;31mDocstring:\u001b[0m <no docstring>\n",
       "\u001b[0;31mFile:\u001b[0m      ~/Dropbox/work/bepi/software/psa_utils/psa_utils/pdap.py\n",
       "\u001b[0;31mType:\u001b[0m      method\n"
      ]
     },
     "metadata": {},
     "output_type": "display_data"
    }
   ],
   "source": [
    "p.get_product?"
   ]
  },
  {
   "cell_type": "code",
   "execution_count": 11,
   "id": "discrete-oklahoma",
   "metadata": {},
   "outputs": [
    {
     "data": {
      "text/plain": [
       "PRODUCT.PRODUCT_ID                          RO-X-SREM-2-MARS-V1.0:DATA:SREM_L2_20070528\n",
       "PRODUCT.DATA_ACCESS_REFERENCE         http://psa.esa.int/pdap/download?RESOURCE_CLAS...\n",
       "DATA_SET.DATA_SET_ID                                              RO-X-SREM-2-MARS-V1.0\n",
       "DATA_SET.DATA_SET_NAME                               ROSETTA-ORBITER X SREM 2 MARS V1.0\n",
       "DATA_SET.MISSION_NAME                                     INTERNATIONAL ROSETTA MISSION\n",
       "DATA_SET.PRODUCER.FULL_NAME                                                            \n",
       "DATA_SET.PRODUCER.INSTITUTION_NAME                                                     \n",
       "DATA_SET.PRODUCER.NODE_NAME                                                            \n",
       "PRODUCT.TARGET_NAME                                                                MARS\n",
       "PRODUCT.TARGET_TYPE                                                              PLANET\n",
       "PRODUCT.INSTRUMENT_ID                                                               N/A\n",
       "PRODUCT.INSTRUMENT_NAME                           STANDARD RADIATION ENVIROMENT MONITOR\n",
       "PRODUCT.START_TIME                                              2007-05-28T00:03:03.755\n",
       "PRODUCT.STOP_TIME                                               2007-05-28T23:57:32.769\n",
       "PRODUCT.ICON_ACCESS_REFERENCE                                                          \n",
       "RESOURCE_CLASS                                                                  PRODUCT\n",
       "VID                                                                                 1.0\n",
       "Name: 0, dtype: object"
      ]
     },
     "execution_count": 11,
     "metadata": {},
     "output_type": "execute_result"
    }
   ],
   "source": [
    "p.get_product('RO-X-SREM-2-MARS-V1.0:DATA:SREM_L2_20070528')"
   ]
  },
  {
   "cell_type": "markdown",
   "id": "cellular-spain",
   "metadata": {},
   "source": [
    "## `get_files`\n",
    "\n",
    "Uses the files endpoint to retrieve a list of files in a given dataset."
   ]
  },
  {
   "cell_type": "code",
   "execution_count": 12,
   "id": "complicated-circuit",
   "metadata": {},
   "outputs": [],
   "source": [
    "files = p.get_files(dataset_id='RO-X-SREM-2-MARS-V1.0')"
   ]
  },
  {
   "cell_type": "code",
   "execution_count": 13,
   "id": "understood-placement",
   "metadata": {},
   "outputs": [
    {
     "data": {
      "text/html": [
       "<div>\n",
       "<style scoped>\n",
       "    .dataframe tbody tr th:only-of-type {\n",
       "        vertical-align: middle;\n",
       "    }\n",
       "\n",
       "    .dataframe tbody tr th {\n",
       "        vertical-align: top;\n",
       "    }\n",
       "\n",
       "    .dataframe thead th {\n",
       "        text-align: right;\n",
       "    }\n",
       "</style>\n",
       "<table border=\"1\" class=\"dataframe\">\n",
       "  <thead>\n",
       "    <tr style=\"text-align: right;\">\n",
       "      <th></th>\n",
       "      <th>Reference</th>\n",
       "      <th>DataSetId</th>\n",
       "      <th>ProductId</th>\n",
       "      <th>RELATIVE_DIRECTORY</th>\n",
       "      <th>Filename</th>\n",
       "    </tr>\n",
       "  </thead>\n",
       "  <tbody>\n",
       "    <tr>\n",
       "      <th>0</th>\n",
       "      <td>http://psa.esa.int/pdap/fileaccess?ID=INTERNAT...</td>\n",
       "      <td>RO-X-SREM-2-MARS-V1.0</td>\n",
       "      <td>SREM_L2_20060918</td>\n",
       "      <td>/DATA/</td>\n",
       "      <td>SREM_L2_20060918.TAB</td>\n",
       "    </tr>\n",
       "    <tr>\n",
       "      <th>1</th>\n",
       "      <td>http://psa.esa.int/pdap/fileaccess?ID=INTERNAT...</td>\n",
       "      <td>RO-X-SREM-2-MARS-V1.0</td>\n",
       "      <td>SREM_L2_20061227</td>\n",
       "      <td>/DATA/</td>\n",
       "      <td>SREM_L2_20061227.TAB</td>\n",
       "    </tr>\n",
       "    <tr>\n",
       "      <th>2</th>\n",
       "      <td>http://psa.esa.int/pdap/fileaccess?ID=INTERNAT...</td>\n",
       "      <td>RO-X-SREM-2-MARS-V1.0</td>\n",
       "      <td>SREM_L2_20060926</td>\n",
       "      <td>/DATA/</td>\n",
       "      <td>SREM_L2_20060926.TAB</td>\n",
       "    </tr>\n",
       "    <tr>\n",
       "      <th>3</th>\n",
       "      <td>http://psa.esa.int/pdap/fileaccess?ID=INTERNAT...</td>\n",
       "      <td>RO-X-SREM-2-MARS-V1.0</td>\n",
       "      <td></td>\n",
       "      <td>/EXTRAS/</td>\n",
       "      <td>SREM_ROSETTA_PACC_20070508.CDF</td>\n",
       "    </tr>\n",
       "    <tr>\n",
       "      <th>4</th>\n",
       "      <td>http://psa.esa.int/pdap/fileaccess?ID=INTERNAT...</td>\n",
       "      <td>RO-X-SREM-2-MARS-V1.0</td>\n",
       "      <td></td>\n",
       "      <td>/EXTRAS/</td>\n",
       "      <td>SREM_ROSETTA_PACC_20070419.CDF</td>\n",
       "    </tr>\n",
       "  </tbody>\n",
       "</table>\n",
       "</div>"
      ],
      "text/plain": [
       "                                           Reference              DataSetId  \\\n",
       "0  http://psa.esa.int/pdap/fileaccess?ID=INTERNAT...  RO-X-SREM-2-MARS-V1.0   \n",
       "1  http://psa.esa.int/pdap/fileaccess?ID=INTERNAT...  RO-X-SREM-2-MARS-V1.0   \n",
       "2  http://psa.esa.int/pdap/fileaccess?ID=INTERNAT...  RO-X-SREM-2-MARS-V1.0   \n",
       "3  http://psa.esa.int/pdap/fileaccess?ID=INTERNAT...  RO-X-SREM-2-MARS-V1.0   \n",
       "4  http://psa.esa.int/pdap/fileaccess?ID=INTERNAT...  RO-X-SREM-2-MARS-V1.0   \n",
       "\n",
       "          ProductId RELATIVE_DIRECTORY                        Filename  \n",
       "0  SREM_L2_20060918             /DATA/            SREM_L2_20060918.TAB  \n",
       "1  SREM_L2_20061227             /DATA/            SREM_L2_20061227.TAB  \n",
       "2  SREM_L2_20060926             /DATA/            SREM_L2_20060926.TAB  \n",
       "3                             /EXTRAS/  SREM_ROSETTA_PACC_20070508.CDF  \n",
       "4                             /EXTRAS/  SREM_ROSETTA_PACC_20070419.CDF  "
      ]
     },
     "execution_count": 13,
     "metadata": {},
     "output_type": "execute_result"
    }
   ],
   "source": [
    "files.head()"
   ]
  },
  {
   "cell_type": "code",
   "execution_count": 14,
   "id": "prerequisite-respondent",
   "metadata": {},
   "outputs": [
    {
     "data": {
      "text/plain": [
       "Reference             http://psa.esa.int/pdap/fileaccess?ID=INTERNAT...\n",
       "DataSetId                                         RO-X-SREM-2-MARS-V1.0\n",
       "ProductId                                              SREM_L2_20060918\n",
       "RELATIVE_DIRECTORY                                               /DATA/\n",
       "Filename                                           SREM_L2_20060918.TAB\n",
       "Name: 0, dtype: object"
      ]
     },
     "execution_count": 14,
     "metadata": {},
     "output_type": "execute_result"
    }
   ],
   "source": [
    "files.iloc[0]"
   ]
  },
  {
   "cell_type": "markdown",
   "id": "bigger-mercy",
   "metadata": {},
   "source": [
    "# tap\n",
    "\n",
    "The `tap` module contains a single class `PsaTap` and various convenience functions that call this class. It is basically a very thin wrapper around `astroquery`'s TAP functionality."
   ]
  },
  {
   "cell_type": "code",
   "execution_count": 15,
   "id": "severe-making",
   "metadata": {},
   "outputs": [],
   "source": [
    "psa = tap.PsaTap()"
   ]
  },
  {
   "cell_type": "markdown",
   "id": "passive-mandate",
   "metadata": {},
   "source": [
    "Currently PsaTap includes only a single method, `query` which itself calls the `astroquery` Tap function and converts the returned data to a Pandas DataFrame."
   ]
  },
  {
   "cell_type": "markdown",
   "id": "honest-leader",
   "metadata": {},
   "source": [
    "## `query`"
   ]
  },
  {
   "cell_type": "code",
   "execution_count": 16,
   "id": "interesting-demand",
   "metadata": {},
   "outputs": [
    {
     "data": {
      "text/plain": [
       "\u001b[0;31mSignature:\u001b[0m\n",
       "\u001b[0mpsa\u001b[0m\u001b[0;34m.\u001b[0m\u001b[0mquery\u001b[0m\u001b[0;34m(\u001b[0m\u001b[0;34m\u001b[0m\n",
       "\u001b[0;34m\u001b[0m    \u001b[0mq\u001b[0m\u001b[0;34m,\u001b[0m\u001b[0;34m\u001b[0m\n",
       "\u001b[0;34m\u001b[0m    \u001b[0msync\u001b[0m\u001b[0;34m=\u001b[0m\u001b[0;32mTrue\u001b[0m\u001b[0;34m,\u001b[0m\u001b[0;34m\u001b[0m\n",
       "\u001b[0;34m\u001b[0m    \u001b[0mdropna\u001b[0m\u001b[0;34m=\u001b[0m\u001b[0;32mTrue\u001b[0m\u001b[0;34m,\u001b[0m\u001b[0;34m\u001b[0m\n",
       "\u001b[0;34m\u001b[0m    \u001b[0mverbose\u001b[0m\u001b[0;34m=\u001b[0m\u001b[0;32mFalse\u001b[0m\u001b[0;34m,\u001b[0m\u001b[0;34m\u001b[0m\n",
       "\u001b[0;34m\u001b[0m    \u001b[0mjob_wait_cycles\u001b[0m\u001b[0;34m=\u001b[0m\u001b[0;36m10\u001b[0m\u001b[0;34m,\u001b[0m\u001b[0;34m\u001b[0m\n",
       "\u001b[0;34m\u001b[0m    \u001b[0mjob_wait_time\u001b[0m\u001b[0;34m=\u001b[0m\u001b[0;36m2\u001b[0m\u001b[0;34m,\u001b[0m\u001b[0;34m\u001b[0m\n",
       "\u001b[0;34m\u001b[0m\u001b[0;34m)\u001b[0m\u001b[0;34m\u001b[0m\u001b[0;34m\u001b[0m\u001b[0m\n",
       "\u001b[0;31mDocstring:\u001b[0m Make a simple query and return the data as a pandas DataFrame\n",
       "\u001b[0;31mFile:\u001b[0m      ~/Dropbox/work/bepi/software/psa_utils/psa_utils/tap.py\n",
       "\u001b[0;31mType:\u001b[0m      method\n"
      ]
     },
     "metadata": {},
     "output_type": "display_data"
    }
   ],
   "source": [
    "psa.query?"
   ]
  },
  {
   "cell_type": "markdown",
   "id": "precious-tanzania",
   "metadata": {},
   "source": [
    "By default you can simply pass a query and this will run a synchronous query job and return. For queries that may return >2k results, set sync=False - you can adjust the number of wait cycles, and the time (in seconds) of each, before query aborts.\n",
    "\n",
    "Note also the dropna boolean - if True, any columns which are *all* NaN will be dropped from the returned DataFrame. This is useful because the epn_core schema contains a lot of fields which are not _yet_ populated in the PSA database."
   ]
  },
  {
   "cell_type": "code",
   "execution_count": 17,
   "id": "blond-praise",
   "metadata": {},
   "outputs": [],
   "source": [
    "top10 = psa.query('select top 10 * from epn_core')"
   ]
  },
  {
   "cell_type": "code",
   "execution_count": 18,
   "id": "international-spokesman",
   "metadata": {},
   "outputs": [
    {
     "data": {
      "text/html": [
       "<div>\n",
       "<style scoped>\n",
       "    .dataframe tbody tr th:only-of-type {\n",
       "        vertical-align: middle;\n",
       "    }\n",
       "\n",
       "    .dataframe tbody tr th {\n",
       "        vertical-align: top;\n",
       "    }\n",
       "\n",
       "    .dataframe thead th {\n",
       "        text-align: right;\n",
       "    }\n",
       "</style>\n",
       "<table border=\"1\" class=\"dataframe\">\n",
       "  <thead>\n",
       "    <tr style=\"text-align: right;\">\n",
       "      <th></th>\n",
       "      <th>access_estsize</th>\n",
       "      <th>access_format</th>\n",
       "      <th>access_url</th>\n",
       "      <th>creation_date</th>\n",
       "      <th>dataproduct_type</th>\n",
       "      <th>granule_gid</th>\n",
       "      <th>granule_uid</th>\n",
       "      <th>instrument_host_name</th>\n",
       "      <th>instrument_name</th>\n",
       "      <th>measurement_type</th>\n",
       "      <th>...</th>\n",
       "      <th>processing_level</th>\n",
       "      <th>release_date</th>\n",
       "      <th>service_title</th>\n",
       "      <th>spatial_frame_type</th>\n",
       "      <th>s_region</th>\n",
       "      <th>target_class</th>\n",
       "      <th>target_name</th>\n",
       "      <th>thumbnail_url</th>\n",
       "      <th>time_max</th>\n",
       "      <th>time_min</th>\n",
       "    </tr>\n",
       "  </thead>\n",
       "  <tbody>\n",
       "    <tr>\n",
       "      <th>0</th>\n",
       "      <td>24</td>\n",
       "      <td>application/x-pds-zip</td>\n",
       "      <td>https://archives.esac.esa.int/psa/pdap/downloa...</td>\n",
       "      <td>2021-03-08T14:04:30.978734</td>\n",
       "      <td>ci</td>\n",
       "      <td>CH1ORB-L-C1XS-2-NPO-EDR-V1.0:DATA</td>\n",
       "      <td>CH1ORB-L-C1XS-2-NPO-EDR-V1.0:DATA:C1XS_NECAX_R...</td>\n",
       "      <td>Chandrayaan-1</td>\n",
       "      <td>C1XS</td>\n",
       "      <td></td>\n",
       "      <td>...</td>\n",
       "      <td>3</td>\n",
       "      <td>2019-07-27T00:00:00.0</td>\n",
       "      <td>psa</td>\n",
       "      <td>none</td>\n",
       "      <td></td>\n",
       "      <td>satellite</td>\n",
       "      <td>Moon</td>\n",
       "      <td></td>\n",
       "      <td>2008-11-20 18:55:51.000009472</td>\n",
       "      <td>2008-11-20 18:27:32.000011520</td>\n",
       "    </tr>\n",
       "    <tr>\n",
       "      <th>1</th>\n",
       "      <td>25</td>\n",
       "      <td>application/x-pds-zip</td>\n",
       "      <td>https://archives.esac.esa.int/psa/pdap/downloa...</td>\n",
       "      <td>2021-03-08T14:04:30.978734</td>\n",
       "      <td>ci</td>\n",
       "      <td>CH1ORB-L-C1XS-2-NPO-EDR-V1.0:DATA</td>\n",
       "      <td>CH1ORB-L-C1XS-2-NPO-EDR-V1.0:DATA:C1XS_NECAX_R...</td>\n",
       "      <td>Chandrayaan-1</td>\n",
       "      <td>C1XS</td>\n",
       "      <td></td>\n",
       "      <td>...</td>\n",
       "      <td>3</td>\n",
       "      <td>2019-07-27T00:00:00.0</td>\n",
       "      <td>psa</td>\n",
       "      <td>none</td>\n",
       "      <td></td>\n",
       "      <td>satellite</td>\n",
       "      <td>Moon</td>\n",
       "      <td></td>\n",
       "      <td>2008-11-23 00:24:13.999999232</td>\n",
       "      <td>2008-11-22 23:38:54.999981568</td>\n",
       "    </tr>\n",
       "    <tr>\n",
       "      <th>2</th>\n",
       "      <td>24</td>\n",
       "      <td>application/x-pds-zip</td>\n",
       "      <td>https://archives.esac.esa.int/psa/pdap/downloa...</td>\n",
       "      <td>2021-03-08T14:04:30.978734</td>\n",
       "      <td>ci</td>\n",
       "      <td>CH1ORB-L-C1XS-2-NPO-EDR-V1.0:DATA</td>\n",
       "      <td>CH1ORB-L-C1XS-2-NPO-EDR-V1.0:DATA:C1XS_NECAX_R...</td>\n",
       "      <td>Chandrayaan-1</td>\n",
       "      <td>C1XS</td>\n",
       "      <td></td>\n",
       "      <td>...</td>\n",
       "      <td>3</td>\n",
       "      <td>2019-07-27T00:00:00.0</td>\n",
       "      <td>psa</td>\n",
       "      <td>none</td>\n",
       "      <td></td>\n",
       "      <td>satellite</td>\n",
       "      <td>Moon</td>\n",
       "      <td></td>\n",
       "      <td>2008-11-24 02:31:26.000002816</td>\n",
       "      <td>2008-11-24 02:31:26.000002816</td>\n",
       "    </tr>\n",
       "    <tr>\n",
       "      <th>3</th>\n",
       "      <td>24</td>\n",
       "      <td>application/x-pds-zip</td>\n",
       "      <td>https://archives.esac.esa.int/psa/pdap/downloa...</td>\n",
       "      <td>2021-03-08T14:04:30.978734</td>\n",
       "      <td>ci</td>\n",
       "      <td>CH1ORB-L-C1XS-2-NPO-EDR-V1.0:DATA</td>\n",
       "      <td>CH1ORB-L-C1XS-2-NPO-EDR-V1.0:DATA:C1XS_NECAX_R...</td>\n",
       "      <td>Chandrayaan-1</td>\n",
       "      <td>C1XS</td>\n",
       "      <td></td>\n",
       "      <td>...</td>\n",
       "      <td>3</td>\n",
       "      <td>2019-07-27T00:00:00.0</td>\n",
       "      <td>psa</td>\n",
       "      <td>none</td>\n",
       "      <td></td>\n",
       "      <td>satellite</td>\n",
       "      <td>Moon</td>\n",
       "      <td></td>\n",
       "      <td>2008-11-24 04:00:05.999994368</td>\n",
       "      <td>2008-11-24 04:00:05.999994368</td>\n",
       "    </tr>\n",
       "    <tr>\n",
       "      <th>4</th>\n",
       "      <td>24</td>\n",
       "      <td>application/x-pds-zip</td>\n",
       "      <td>https://archives.esac.esa.int/psa/pdap/downloa...</td>\n",
       "      <td>2021-03-08T14:04:30.978734</td>\n",
       "      <td>ci</td>\n",
       "      <td>CH1ORB-L-C1XS-2-NPO-EDR-V1.0:DATA</td>\n",
       "      <td>CH1ORB-L-C1XS-2-NPO-EDR-V1.0:DATA:C1XS_NECAX_R...</td>\n",
       "      <td>Chandrayaan-1</td>\n",
       "      <td>C1XS</td>\n",
       "      <td></td>\n",
       "      <td>...</td>\n",
       "      <td>3</td>\n",
       "      <td>2019-07-27T00:00:00.0</td>\n",
       "      <td>psa</td>\n",
       "      <td>none</td>\n",
       "      <td></td>\n",
       "      <td>satellite</td>\n",
       "      <td>Moon</td>\n",
       "      <td></td>\n",
       "      <td>2008-11-28 14:45:38.000008448</td>\n",
       "      <td>2008-11-28 14:45:38.000008448</td>\n",
       "    </tr>\n",
       "  </tbody>\n",
       "</table>\n",
       "<p>5 rows × 22 columns</p>\n",
       "</div>"
      ],
      "text/plain": [
       "   access_estsize          access_format  \\\n",
       "0              24  application/x-pds-zip   \n",
       "1              25  application/x-pds-zip   \n",
       "2              24  application/x-pds-zip   \n",
       "3              24  application/x-pds-zip   \n",
       "4              24  application/x-pds-zip   \n",
       "\n",
       "                                          access_url  \\\n",
       "0  https://archives.esac.esa.int/psa/pdap/downloa...   \n",
       "1  https://archives.esac.esa.int/psa/pdap/downloa...   \n",
       "2  https://archives.esac.esa.int/psa/pdap/downloa...   \n",
       "3  https://archives.esac.esa.int/psa/pdap/downloa...   \n",
       "4  https://archives.esac.esa.int/psa/pdap/downloa...   \n",
       "\n",
       "                creation_date dataproduct_type  \\\n",
       "0  2021-03-08T14:04:30.978734               ci   \n",
       "1  2021-03-08T14:04:30.978734               ci   \n",
       "2  2021-03-08T14:04:30.978734               ci   \n",
       "3  2021-03-08T14:04:30.978734               ci   \n",
       "4  2021-03-08T14:04:30.978734               ci   \n",
       "\n",
       "                         granule_gid  \\\n",
       "0  CH1ORB-L-C1XS-2-NPO-EDR-V1.0:DATA   \n",
       "1  CH1ORB-L-C1XS-2-NPO-EDR-V1.0:DATA   \n",
       "2  CH1ORB-L-C1XS-2-NPO-EDR-V1.0:DATA   \n",
       "3  CH1ORB-L-C1XS-2-NPO-EDR-V1.0:DATA   \n",
       "4  CH1ORB-L-C1XS-2-NPO-EDR-V1.0:DATA   \n",
       "\n",
       "                                         granule_uid instrument_host_name  \\\n",
       "0  CH1ORB-L-C1XS-2-NPO-EDR-V1.0:DATA:C1XS_NECAX_R...        Chandrayaan-1   \n",
       "1  CH1ORB-L-C1XS-2-NPO-EDR-V1.0:DATA:C1XS_NECAX_R...        Chandrayaan-1   \n",
       "2  CH1ORB-L-C1XS-2-NPO-EDR-V1.0:DATA:C1XS_NECAX_R...        Chandrayaan-1   \n",
       "3  CH1ORB-L-C1XS-2-NPO-EDR-V1.0:DATA:C1XS_NECAX_R...        Chandrayaan-1   \n",
       "4  CH1ORB-L-C1XS-2-NPO-EDR-V1.0:DATA:C1XS_NECAX_R...        Chandrayaan-1   \n",
       "\n",
       "  instrument_name measurement_type  ... processing_level  \\\n",
       "0            C1XS                   ...                3   \n",
       "1            C1XS                   ...                3   \n",
       "2            C1XS                   ...                3   \n",
       "3            C1XS                   ...                3   \n",
       "4            C1XS                   ...                3   \n",
       "\n",
       "            release_date  service_title spatial_frame_type s_region  \\\n",
       "0  2019-07-27T00:00:00.0            psa               none            \n",
       "1  2019-07-27T00:00:00.0            psa               none            \n",
       "2  2019-07-27T00:00:00.0            psa               none            \n",
       "3  2019-07-27T00:00:00.0            psa               none            \n",
       "4  2019-07-27T00:00:00.0            psa               none            \n",
       "\n",
       "  target_class target_name thumbnail_url                      time_max  \\\n",
       "0    satellite        Moon               2008-11-20 18:55:51.000009472   \n",
       "1    satellite        Moon               2008-11-23 00:24:13.999999232   \n",
       "2    satellite        Moon               2008-11-24 02:31:26.000002816   \n",
       "3    satellite        Moon               2008-11-24 04:00:05.999994368   \n",
       "4    satellite        Moon               2008-11-28 14:45:38.000008448   \n",
       "\n",
       "                       time_min  \n",
       "0 2008-11-20 18:27:32.000011520  \n",
       "1 2008-11-22 23:38:54.999981568  \n",
       "2 2008-11-24 02:31:26.000002816  \n",
       "3 2008-11-24 04:00:05.999994368  \n",
       "4 2008-11-28 14:45:38.000008448  \n",
       "\n",
       "[5 rows x 22 columns]"
      ]
     },
     "execution_count": 18,
     "metadata": {},
     "output_type": "execute_result"
    }
   ],
   "source": [
    "top10.head()"
   ]
  },
  {
   "cell_type": "markdown",
   "id": "cordless-rating",
   "metadata": {},
   "source": [
    "Let's look at one single entry:"
   ]
  },
  {
   "cell_type": "code",
   "execution_count": 19,
   "id": "academic-momentum",
   "metadata": {},
   "outputs": [
    {
     "data": {
      "text/plain": [
       "access_estsize                                                         24\n",
       "access_format                                       application/x-pds-zip\n",
       "access_url              https://archives.esac.esa.int/psa/pdap/downloa...\n",
       "creation_date                                  2021-03-08T14:04:30.978734\n",
       "dataproduct_type                                                       ci\n",
       "granule_gid                             CH1ORB-L-C1XS-2-NPO-EDR-V1.0:DATA\n",
       "granule_uid             CH1ORB-L-C1XS-2-NPO-EDR-V1.0:DATA:C1XS_NECAX_R...\n",
       "instrument_host_name                                        Chandrayaan-1\n",
       "instrument_name                                                      C1XS\n",
       "measurement_type                                                         \n",
       "modification_date                              2021-03-08T14:04:30.978734\n",
       "obs_id                  CH1ORB-L-C1XS-2-NPO-EDR-V1.0:DATA:C1XS_NECAX_R...\n",
       "processing_level                                                        3\n",
       "release_date                                        2019-07-27T00:00:00.0\n",
       "service_title                                                         psa\n",
       "spatial_frame_type                                                   none\n",
       "s_region                                                                 \n",
       "target_class                                                    satellite\n",
       "target_name                                                          Moon\n",
       "thumbnail_url                                                            \n",
       "time_max                                    2008-11-20 18:55:51.000009472\n",
       "time_min                                    2008-11-20 18:27:32.000011520\n",
       "Name: 0, dtype: object"
      ]
     },
     "execution_count": 19,
     "metadata": {},
     "output_type": "execute_result"
    }
   ],
   "source": [
    "top10.iloc[0]"
   ]
  },
  {
   "cell_type": "markdown",
   "id": "level-smile",
   "metadata": {},
   "source": [
    "Here note also that `time_min` and `time_max` have been converted from Julian dates to standard date/times"
   ]
  },
  {
   "cell_type": "markdown",
   "id": "convenient-chrome",
   "metadata": {},
   "source": [
    "Now let's try exceeding that 2k limit, also increasing astroquery's verbosity:"
   ]
  },
  {
   "cell_type": "code",
   "execution_count": 20,
   "id": "comic-hammer",
   "metadata": {},
   "outputs": [
    {
     "name": "stdout",
     "output_type": "stream",
     "text": [
      "Launched query: 'select  TOP 2000 * from epn_core where instrument_name='OSIRIS''\n",
      "------>https\n",
      "host = archives.esac.esa.int:443\n",
      "context = /psa/epn-tap/tap//sync\n",
      "Content-type = application/x-www-form-urlencoded\n",
      "200 \n",
      "[('Date', 'Mon, 08 Mar 2021 17:17:58 GMT'), ('Server', 'Apache/2.4.6 (Red Hat Enterprise Linux)'), ('Cache-Control', 'no-cache, no-store, max-age=0, must-revalidate'), ('Pragma', 'no-cache'), ('Expires', '0'), ('X-XSS-Protection', '1; mode=block'), ('X-Frame-Options', 'DENY'), ('X-Content-Type-Options', 'nosniff'), ('Content-Type', 'application/x-votable+xml'), ('Set-Cookie', 'JSESSIONID=04991C5D91A6D90BFFC93DE192BD9902;path=/psa/epn-tap;HttpOnly'), ('Vary', 'Accept-Encoding'), ('Transfer-Encoding', 'chunked')]\n",
      "Retrieving sync. results...\n",
      "Query finished.\n",
      "WARNING 2021-03-08 18:17:58 (psa_utils.tap): results incomplete due to synchronous query limit - repeat with sync=false\n"
     ]
    }
   ],
   "source": [
    "size_test = psa.query(\"select * from epn_core where instrument_name='OSIRIS'\", verbose=True)"
   ]
  },
  {
   "cell_type": "code",
   "execution_count": 21,
   "id": "laughing-harvey",
   "metadata": {},
   "outputs": [
    {
     "data": {
      "text/plain": [
       "2000"
      ]
     },
     "execution_count": 21,
     "metadata": {},
     "output_type": "execute_result"
    }
   ],
   "source": [
    "len(size_test)"
   ]
  },
  {
   "cell_type": "markdown",
   "id": "japanese-bride",
   "metadata": {},
   "source": [
    "So here we see that astroquery actually inserts an extra `TOP 2000` clause into the query statement. Note that if you specify `TOP` in your query, you automatically override this:"
   ]
  },
  {
   "cell_type": "code",
   "execution_count": 22,
   "id": "efficient-button",
   "metadata": {},
   "outputs": [
    {
     "name": "stdout",
     "output_type": "stream",
     "text": [
      "Launched query: 'select top 3000 * from epn_core where instrument_name='OSIRIS''\n",
      "------>https\n",
      "host = archives.esac.esa.int:443\n",
      "context = /psa/epn-tap/tap//sync\n",
      "Content-type = application/x-www-form-urlencoded\n",
      "200 \n",
      "[('Date', 'Mon, 08 Mar 2021 17:18:02 GMT'), ('Server', 'Apache/2.4.6 (Red Hat Enterprise Linux)'), ('Cache-Control', 'no-cache, no-store, max-age=0, must-revalidate'), ('Pragma', 'no-cache'), ('Expires', '0'), ('X-XSS-Protection', '1; mode=block'), ('X-Frame-Options', 'DENY'), ('X-Content-Type-Options', 'nosniff'), ('Content-Type', 'application/x-votable+xml'), ('Set-Cookie', 'JSESSIONID=2C34E28A79B2D478F0EF3E6A2F9AC3F0;path=/psa/epn-tap;HttpOnly'), ('Vary', 'Accept-Encoding'), ('Transfer-Encoding', 'chunked')]\n",
      "Retrieving sync. results...\n",
      "Query finished.\n"
     ]
    }
   ],
   "source": [
    "size_test = psa.query(\"select top 3000 * from epn_core where instrument_name='OSIRIS'\", verbose=True)"
   ]
  },
  {
   "cell_type": "code",
   "execution_count": 23,
   "id": "traditional-writer",
   "metadata": {},
   "outputs": [
    {
     "data": {
      "text/plain": [
       "3000"
      ]
     },
     "execution_count": 23,
     "metadata": {},
     "output_type": "execute_result"
    }
   ],
   "source": [
    "len(size_test)"
   ]
  },
  {
   "cell_type": "markdown",
   "id": "offshore-corrections",
   "metadata": {},
   "source": [
    "There is also the function, especially for larger queries, to run asynchronously:"
   ]
  },
  {
   "cell_type": "code",
   "execution_count": 25,
   "id": "rural-completion",
   "metadata": {},
   "outputs": [],
   "source": [
    "asyn = psa.query(\"select top 10000 * from epn_core where instrument_name='ACS'\", \n",
    "          sync=False, job_wait_cycles=2, job_wait_time=10)"
   ]
  },
  {
   "cell_type": "code",
   "execution_count": null,
   "id": "interim-african",
   "metadata": {},
   "outputs": [],
   "source": [
    "len(asyn)"
   ]
  },
  {
   "cell_type": "markdown",
   "id": "loose-accuracy",
   "metadata": {},
   "source": [
    "You can of course also perform queries that return values other than than a product list:"
   ]
  },
  {
   "cell_type": "code",
   "execution_count": null,
   "id": "norwegian-bridal",
   "metadata": {},
   "outputs": [],
   "source": [
    "psa.query(\"select count(*) from epn_core where instrument_name='MCAM'\")"
   ]
  },
  {
   "cell_type": "markdown",
   "id": "fancy-manufacturer",
   "metadata": {},
   "source": [
    "Note that products have an access_url which will download the product - this is used in the `download` module."
   ]
  },
  {
   "cell_type": "code",
   "execution_count": null,
   "id": "stylish-weapon",
   "metadata": {},
   "outputs": [],
   "source": [
    "psa.query(\"select count(*) from epn_core where instrument_name='CaSSIS'\")"
   ]
  },
  {
   "cell_type": "code",
   "execution_count": null,
   "id": "defensive-warning",
   "metadata": {},
   "outputs": [],
   "source": [
    "psa.query(\"select count(*) from epn_core where instrument_name='CaSSIS' and granule_uid like '%sti%'\")"
   ]
  },
  {
   "cell_type": "code",
   "execution_count": null,
   "id": "considerable-caution",
   "metadata": {},
   "outputs": [],
   "source": [
    "cassis = psa.query(\"select top 10 * from epn_core where instrument_name='CaSSIS' and granule_uid like '%sti%'\")"
   ]
  },
  {
   "cell_type": "code",
   "execution_count": null,
   "id": "confused-heather",
   "metadata": {},
   "outputs": [],
   "source": [
    "cassis.iloc[0]"
   ]
  },
  {
   "cell_type": "markdown",
   "id": "occupied-depression",
   "metadata": {},
   "source": [
    "So you can always use this `access_url` to download the data product - the `download` module has functions to do just this."
   ]
  },
  {
   "cell_type": "markdown",
   "id": "prime-twins",
   "metadata": {},
   "source": [
    "# download"
   ]
  },
  {
   "cell_type": "markdown",
   "id": "circular-snapshot",
   "metadata": {},
   "source": [
    "## `download_by_query`\n",
    "This is the key function in this module - it accepts an ADQL query string, uses the `tap` module to run the query, downloads the referenced files (if they are public) and unzips them to the location of your choice."
   ]
  },
  {
   "cell_type": "code",
   "execution_count": null,
   "id": "injured-knife",
   "metadata": {},
   "outputs": [],
   "source": [
    "download.download_by_query?"
   ]
  },
  {
   "cell_type": "code",
   "execution_count": null,
   "id": "superior-portfolio",
   "metadata": {},
   "outputs": [],
   "source": [
    "q = \"select top 2 * from epn_core where instrument_name='OSIRIS' and granule_uid like '%.FIT%'\""
   ]
  },
  {
   "cell_type": "code",
   "execution_count": null,
   "id": "significant-trust",
   "metadata": {},
   "outputs": [],
   "source": [
    "filelist = download.download_by_query(q, output_dir='/tmp')"
   ]
  },
  {
   "cell_type": "code",
   "execution_count": null,
   "id": "alert-sight",
   "metadata": {},
   "outputs": [],
   "source": [
    "filelist"
   ]
  },
  {
   "cell_type": "markdown",
   "id": "mineral-crossing",
   "metadata": {},
   "source": [
    "Note that in most cases these settings are what you want to retrieve products. If you prefer to keep the zips after extract, set tidy=False - you will still get the list of individual files returned. If you just want to download the zips, set unzip=False and you will get the list of zips returned:"
   ]
  },
  {
   "cell_type": "code",
   "execution_count": null,
   "id": "disciplinary-smooth",
   "metadata": {},
   "outputs": [],
   "source": [
    "filelist = download.download_by_query(q, output_dir='/tmp', unzip=False)"
   ]
  },
  {
   "cell_type": "code",
   "execution_count": null,
   "id": "green-occupation",
   "metadata": {},
   "outputs": [],
   "source": [
    "filelist"
   ]
  },
  {
   "cell_type": "markdown",
   "id": "convinced-taste",
   "metadata": {},
   "source": [
    "There is a convenience function to download by the logical identifer, or product ID:"
   ]
  },
  {
   "cell_type": "code",
   "execution_count": null,
   "id": "conceptual-anxiety",
   "metadata": {},
   "outputs": [],
   "source": [
    "download.download_by_lid?"
   ]
  },
  {
   "cell_type": "code",
   "execution_count": null,
   "id": "soviet-surge",
   "metadata": {},
   "outputs": [],
   "source": [
    "download.download_by_lid('N20080804T023124677ID20F22', output_dir='/tmp')"
   ]
  },
  {
   "cell_type": "markdown",
   "id": "indie-ferry",
   "metadata": {},
   "source": [
    "Note that all this really does is look for records with granule_uid matching the substring passed. So in this case the same data were archived as a PDS3 .IMG image and FITS file, so both were matched."
   ]
  },
  {
   "cell_type": "markdown",
   "id": "adapted-southwest",
   "metadata": {},
   "source": [
    "## download_labels_by_query\n",
    "\n",
    "Sometimes you cannot narrow down a search using TAP or PDAP, but need to look into the custom meta-data in the products. In this case you do not want to download gigabytes of data, but only the labels. \n",
    "\n",
    "This is a bit of a \"hack\" using the PDAP `files` endpoint with EPN-TAP, but it works with the following caveats:\n",
    "- large (especially PDS4) datasets currently time-out on PDAP - this is a known issue\n",
    "- PDS3 products with attached labels are skipped\n",
    "  - since downloading these would defeat the purpose of trying to retrieve small labels only"
   ]
  },
  {
   "cell_type": "code",
   "execution_count": null,
   "id": "binding-authorization",
   "metadata": {},
   "outputs": [],
   "source": [
    "download.download_labels_by_query(\"select top 10 * from epn_core where instrument_name='MCAM'\", output_dir='/tmp')"
   ]
  },
  {
   "cell_type": "markdown",
   "id": "ready-championship",
   "metadata": {},
   "source": [
    "# packager\n",
    "\n",
    "This is a module specifically designed to package PDS4 products into a delivery package recognised by the PSA. It is probably not useful unless you are an external data provider preparing PDS4 products (not bundles), or an internal user!"
   ]
  },
  {
   "cell_type": "code",
   "execution_count": null,
   "id": "juvenile-basic",
   "metadata": {},
   "outputs": [],
   "source": [
    "packager.Packager?"
   ]
  },
  {
   "cell_type": "markdown",
   "id": "silver-volleyball",
   "metadata": {},
   "source": [
    "Most inputs should be clear - you need to specify the location and wildcard to match the input files - note that a delivery can only be for a single bundle, so use these filters to ensure you select products belonging to a single bundle!\n",
    "\n",
    "A template PDS4 label is needed for complete the product delivery label. A default template is needed, and bundled with the source code. But should you wish to specify a different template, this can be done with the template keyword.\n",
    "\n",
    "The main additional option is to set `use_dir`. If true, the path from `input_dir` will be used to build the archive structure (e.g. the directory structure users will see when downloading the files). If false, then all files will be placed in the root of the collection."
   ]
  },
  {
   "cell_type": "markdown",
   "id": "civilian-executive",
   "metadata": {},
   "source": [
    "# geogen\n",
    "\n",
    "This module contains some routines to help working with the PSA geometry generator (geogen). These are likely only of interest to internal users."
   ]
  },
  {
   "cell_type": "markdown",
   "id": "liable-treasurer",
   "metadata": {},
   "source": [
    "## `generate_plf`"
   ]
  },
  {
   "cell_type": "code",
   "execution_count": null,
   "id": "enclosed-outreach",
   "metadata": {},
   "outputs": [],
   "source": [
    "geogen.generate_plf?"
   ]
  },
  {
   "cell_type": "markdown",
   "id": "arctic-injury",
   "metadata": {},
   "source": [
    "Note that for this to work, `pds4_utils` must be installed. The `config_file` listed here is a `pds4_utils.Database` configuration file which is used to scrape relevant meta-data from a collection of PDS4 products and output to a json file in the format expected by geogen."
   ]
  },
  {
   "cell_type": "markdown",
   "id": "double-lincoln",
   "metadata": {},
   "source": [
    "# internal"
   ]
  },
  {
   "cell_type": "markdown",
   "id": "blond-objective",
   "metadata": {},
   "source": [
    "## `Ingest_Test`\n",
    "\n",
    "This uses a configuration and template to effectively replicate a single PDS4 product according to the name, type, sub-instruments etc. in the configuration file"
   ]
  },
  {
   "cell_type": "code",
   "execution_count": null,
   "id": "productive-relationship",
   "metadata": {},
   "outputs": [],
   "source": [
    "internal.Ingest_Test?"
   ]
  },
  {
   "cell_type": "markdown",
   "id": "mental-voice",
   "metadata": {},
   "source": [
    "## `build_context_json`\n",
    "\n",
    "This routine builds a local_context_products.json file as used by the PDS validate. It is designed for PSA internal use.\n",
    "\n",
    "It requires `pds4_utils`."
   ]
  },
  {
   "cell_type": "code",
   "execution_count": null,
   "id": "crucial-stroke",
   "metadata": {},
   "outputs": [],
   "source": [
    "internal.build_context_json?"
   ]
  },
  {
   "cell_type": "code",
   "execution_count": null,
   "id": "joined-minister",
   "metadata": {},
   "outputs": [],
   "source": []
  },
  {
   "cell_type": "markdown",
   "id": "north-oriental",
   "metadata": {},
   "source": [
    "## `collection_summary`\n",
    "\n",
    "This routine generates an html table corresponding to specific meta-data scraped from instrument and mission context products. It is used to prototype information which is needed o populate Google Dataset Search and for a DOI landing page."
   ]
  },
  {
   "cell_type": "code",
   "execution_count": null,
   "id": "authentic-matthew",
   "metadata": {},
   "outputs": [],
   "source": [
    "internal.collection_summary?"
   ]
  },
  {
   "cell_type": "code",
   "execution_count": null,
   "id": "alone-guyana",
   "metadata": {},
   "outputs": [],
   "source": []
  }
 ],
 "metadata": {
  "kernelspec": {
   "display_name": "bepi",
   "language": "python",
   "name": "bepi"
  },
  "language_info": {
   "codemirror_mode": {
    "name": "ipython",
    "version": 3
   },
   "file_extension": ".py",
   "mimetype": "text/x-python",
   "name": "python",
   "nbconvert_exporter": "python",
   "pygments_lexer": "ipython3",
   "version": "3.8.8"
  }
 },
 "nbformat": 4,
 "nbformat_minor": 5
}
